{
 "cells": [
  {
   "cell_type": "code",
   "execution_count": 16,
   "id": "b29a453b",
   "metadata": {},
   "outputs": [
    {
     "name": "stdout",
     "output_type": "stream",
     "text": [
      "[8, 5, 10]\n",
      "[1, 3, 9, 2, 12]\n"
     ]
    }
   ],
   "source": [
    "a  = [1, 8, 3, 5, 9, 10]\n",
    "b = [2, 10, 5, 8, 12]\n",
    "o=[]\n",
    "c=[]\n",
    "d=[]\n",
    "'''#output = [8, 5, 10]\n",
    "#output = [1, 3, 9, 2, 12]\n",
    "for i in range(len(a)):\n",
    "    if i%2!=0:\n",
    "        o.append(a[i])\n",
    "    else:\n",
    "        c.append(a[i])\n",
    "print(c)\n",
    "l=[]\n",
    "for i in b:\n",
    "    if i not in o:\n",
    "        l.append(i)\n",
    "print(l)\n",
    "o=o.extend(l)\n",
    "print(o)'''\n",
    "a  = [1, 8, 3, 5, 9, 10]\n",
    "b = [2, 10, 5, 8, 12]\n",
    "l=list(filter(lambda x: a.index(x)%2!=0,a))\n",
    "print(l)\n",
    "d=list(filter(lambda x: a.index(x)%2==0,a))\n",
    "#print(d)\n",
    "l2=list(filter(lambda x: x not in l,b))\n",
    "d.extend(l2)\n",
    "print(d)"
   ]
  },
  {
   "cell_type": "code",
   "execution_count": null,
   "id": "e3791538",
   "metadata": {},
   "outputs": [],
   "source": []
  },
  {
   "cell_type": "code",
   "execution_count": null,
   "id": "ddcfa81a",
   "metadata": {},
   "outputs": [],
   "source": []
  },
  {
   "cell_type": "code",
   "execution_count": null,
   "id": "789b7510",
   "metadata": {},
   "outputs": [],
   "source": []
  },
  {
   "cell_type": "code",
   "execution_count": null,
   "id": "11444d20",
   "metadata": {},
   "outputs": [],
   "source": []
  },
  {
   "cell_type": "code",
   "execution_count": null,
   "id": "f4c50a49",
   "metadata": {},
   "outputs": [],
   "source": []
  },
  {
   "cell_type": "code",
   "execution_count": null,
   "id": "05d9fad0",
   "metadata": {},
   "outputs": [],
   "source": []
  },
  {
   "cell_type": "code",
   "execution_count": null,
   "id": "64200bc2",
   "metadata": {},
   "outputs": [],
   "source": []
  },
  {
   "cell_type": "code",
   "execution_count": null,
   "id": "e6cf9825",
   "metadata": {},
   "outputs": [],
   "source": []
  },
  {
   "cell_type": "code",
   "execution_count": null,
   "id": "91fdb560",
   "metadata": {},
   "outputs": [],
   "source": []
  },
  {
   "cell_type": "code",
   "execution_count": 7,
   "id": "70fd2fb3",
   "metadata": {},
   "outputs": [],
   "source": [
    "l2=list(filter(lambda x: x not in l,b))"
   ]
  },
  {
   "cell_type": "code",
   "execution_count": 8,
   "id": "1b2adb74",
   "metadata": {},
   "outputs": [
    {
     "data": {
      "text/plain": [
       "[2, 12]"
      ]
     },
     "execution_count": 8,
     "metadata": {},
     "output_type": "execute_result"
    }
   ],
   "source": [
    "l2"
   ]
  },
  {
   "cell_type": "code",
   "execution_count": 11,
   "id": "54aef750",
   "metadata": {},
   "outputs": [],
   "source": [
    "l.extend(l2)"
   ]
  },
  {
   "cell_type": "code",
   "execution_count": 12,
   "id": "998fb417",
   "metadata": {},
   "outputs": [
    {
     "data": {
      "text/plain": [
       "[8, 5, 10, 2, 12]"
      ]
     },
     "execution_count": 12,
     "metadata": {},
     "output_type": "execute_result"
    }
   ],
   "source": [
    "l"
   ]
  },
  {
   "cell_type": "code",
   "execution_count": null,
   "id": "616d73aa",
   "metadata": {},
   "outputs": [],
   "source": []
  }
 ],
 "metadata": {
  "kernelspec": {
   "display_name": "Python 3 (ipykernel)",
   "language": "python",
   "name": "python3"
  },
  "language_info": {
   "codemirror_mode": {
    "name": "ipython",
    "version": 3
   },
   "file_extension": ".py",
   "mimetype": "text/x-python",
   "name": "python",
   "nbconvert_exporter": "python",
   "pygments_lexer": "ipython3",
   "version": "3.10.9"
  }
 },
 "nbformat": 4,
 "nbformat_minor": 5
}
